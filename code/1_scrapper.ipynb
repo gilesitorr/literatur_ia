{
 "cells": [
  {
   "cell_type": "markdown",
   "metadata": {},
   "source": [
    "Datos recopilados de https://arbolabc.com/trabalenguas-para-ninos/dificiles"
   ]
  },
  {
   "cell_type": "code",
   "execution_count": 10,
   "metadata": {},
   "outputs": [],
   "source": [
    "import json"
   ]
  },
  {
   "cell_type": "code",
   "execution_count": 34,
   "metadata": {},
   "outputs": [
    {
     "data": {
      "text/plain": [
       "['Título.\\n\\nTrabalenguas difíciles\\nJuegos de palabras dificiles de pronunciar',\n",
       " 'Prefacio.\\n\\nLos trabalenguas difíciles son oraciones o frases dificultosas de pronunciar, usan palabras con sonidos similares. Se consideran un ejercicio que pertenece a la tradición oral. La finalidad de estos retos lingüísticos es educar y entretener a los niños, ya que, les ayuda a mejorar la dicción al mismo tiempo que disfrutan de la gracia de equivocarse. Además, en su mayoría son chistosos, por lo que resulta una actividad divertida.',\n",
       " 'Página 1.\\n\\nTengo una gallina pinta, pipiripinta, pipirialegre y gorda, que tiene tres pollitos pintos, pipiripintos, pipirialegres y gordos. Si la gallina no hubiera sido pinta pipiripinta, pipirialegre y gorda; los pollitos no hubieran sido pintos, pipiripintos, pipirialegres y gordos.\\n\\nPablito clavó un clavito en la calva de un calvito. Un clavito clavó Pablito en la calva de un calvito. ¿Qué clavito clavó Pablito?\\n\\nCuando cuentes cuentos, cuenta cuántos cuentos cuentas, porque si no cuentas cuántos cuentos cuentas, nunca sabrás cuántos cuentos cuentas tú.\\n\\nPedro Pablo Pérez Pereira, pobre pintor portugués, pinta preciosos paisajes por poca plata, para poder pasar por París.\\n\\n¿Cómo quieres que te quiera si el que quiero no me quiere como quiero que me quiera?',\n",
       " 'Página 2.\\n\\nMe han dicho un dicho, que dicen que he dicho yo. Ese dicho está mal dicho, pues si yo lo hubiera dicho, estaría mejor dicho, que ese dicho que dicen que algún día dije yo.\\n\\nSi tu gusto no gusta del gusto que gusta mi gusto, qué disgusto se lleva mi gusto al saber que tu gusto no gusta del gusto que gusta mi gusto.\\n\\nPepe pide pipas y Pepe pide papas. Pudo Pepe pelar pipas, pero no pudo Pepe pelar papas. Porque las papas de Pepe no eran papas, eran pepinos. ¡Pepe metió la pata!\\n\\nErre con erre guitarra, erre con erre barril. Rápido ruedan las ruedas por los rieles del ferrocarril.\\n\\nHugo tuvo un tubo, pero el tubo que tuvo se le rompió. Para recuperar el tubo que tuvo, tuvo que comprar un tubo igual al tubo que tuvo.',\n",
       " 'Página 3.\\n\\nLe aviso al público de la República que el agua pública se va a cobrar, para que el público de la República tenga agua pública para tomar.\\n\\n¿Por qué a la cama se le llama cama y a la cómoda cómoda, si es más cómoda la cama que la cómoda?\\n\\nAmador está adormecido, ¿quién lo desadormecerá? El desadormecedor que lo desadormezca, buen desadormecedor será.\\n\\nTres tristes tigres tragaban trigo en tres tristes trastos sentados tras un trigal. Sentados tras un trigal, en tres tristes trastos tragaban trigo tres tristes tigres\\n\\nMariana Magaña desenmarañará mañana la maraña que enmaraña Mariana Magaña.',\n",
       " 'Página 4.\\n\\nPancha plancha con cuatro planchas. ¿Con cuántas planchas plancha Pancha?\\n\\nEnfrente de Fuensanta hay una fuente de frente. Fuensanta frunce la frente, frente a la fuente que está enfrente de frente.',\n",
       " 'Conclusión.\\n\\nBeneficios de los trabalenguas difíciles\\nEs recomendable que los niños empiecen a practicar trabalenguas desde muy pequeños, deben comenzar con ejercicios sencillos e ir aumentando el nivel de dificultad. Estos textos ejercitan el vocabulario del chico, así como, la precisión en el uso del lenguaje.\\n\\nTambién, mejoran la pronunciación y la fluidez verbal. Lo que significa que, los trabalenguas difíciles contribuirán a que tu hijo o estudiante pierda el miedo de hablar y leer en público por temor a trabarse.\\n\\nPor otro lado, los retos difíciles ejercitan la memoria, ya que, la práctica es lo que permite el progreso y la fluidez al leer el trabalenguas y por lo general, suelen aprendérselos rápidamente.\\n\\nPara lograr comprender el trabalenguas es recomendable que identifiques las palabras que desconoces. Además, separa en partes el texto y determina el sentido de cada una, de esta forma, te resultará más fácil enseñar al niño.\\n\\nCaracterísticas de los trabalenguas\\nEn los trabalenguas puedes encontrar rimas, palabras sin significado y repetición de sonidos. Además, presenta las siguientes características:\\n\\nSentido lúdico: los trabalenguas tienen función lúdica, por ello, se usan como un juego del lenguaje, especialmente, en la primaria.\\nJuego poético: se asocian con otros conceptos del lenguaje.\\nCacofonía: se componen de palabras o frases muy parecidas o derivadas, lo que hace que la enunciación sea difícil.\\nLos mejores trabalenguas difíciles para niños\\nEstos retos son la herramienta ideal para trabajar la rapidez en el habla, ejercitar la lengua y los músculos faciales. Un dato importante que debes saber sobre esos trabalenguas es que pueden ayudar a bajar la tensión antes de entrar en escena, lo que significa que, son perfectos para utilizarlos como ejercicios de calentamiento.\\n\\nTrabalenguas difíciles para niños de primaria\\nUtiliza esta recopilación de trabalenguas dificultosos pero cortos para niños de primaria.\\n\\nOcho broches Bocha abrocha, Sí, Bocha abrocha ocho broches.\\nEl piso pisó Pablito, pisó Pablito pisando el piso, cuando el piso Pablito pisó, unas piezas de piso Pablito pisó.\\nLos llorones son lloricas, con sus lloreras y lloriqueos, si lloraran todos con los llorones, llorones y lloronas llenarían el océano.\\nUn parangaricutirimicuarano quería parangaricutirimicuarar, por ello, el que parangaricutirimicuare será un buen parangaricutirimicuarizador.\\nPaco Quinto cuentos cuenta. Cuenta cuatro, cuenta cinco, cuenta cientos ¿Quinto, cuentas cuántos cuentos? Quiero que me cuentes mucho más.\\nTrabalenguas difíciles largos\\nLuego de dominar los trabalenguas cortos para niños aumenta el nivel con los siguientes textos.\\n\\nLa cabra tecla, mecla, secla y fecla, tenía siente hijos teclos, meclos, seclos y feclos. Si la cabra tecla, mecla, secla y fecla no hubiera sido tecla, mecla, secla y fecla, sus cabritos no hubieran sido teclos meclos, seclos y feclos.\\nTreinta y tres trechos de troncos trocearon tres trozadores tristes de troncos y tresdoblaron su trabajo, tresdoblando su trabajo de trocear troncos y tronquitos.\\nCompadre de la capa parda, no compre más capa parda, porque el que mucha capa parda compra, paga mucha capa parda. Pues yo pagué mucha capa parda porque mucha capa parda compré.\\nEl ácido desoxirribonucleico se quiere desacidodesoxirribonucleicoizar. Aquel que lo desacidodesoxirribonucleicoice un buen desacidodesoxirribonucleicoizador será.\\n¿Qué esperas? Aprovecha los trabalenguas cortos difíciles y disfruta de aprender y enseñar.']"
      ]
     },
     "execution_count": 34,
     "metadata": {},
     "output_type": "execute_result"
    }
   ],
   "source": [
    "# Se lee el archivo formato txt\n",
    "with open('C:/Users/Gil Rodríguez Rivera/Documents/LiteraturIA/data/data_raw.txt', 'r', encoding='utf-8') as f:\n",
    "    data = f.read()\n",
    "\n",
    "    # Se separa el texto en una lista de strings\n",
    "    data_list = data.split('\\n\\n\\n')\n",
    "\n",
    "data_list"
   ]
  },
  {
   "cell_type": "code",
   "execution_count": 35,
   "metadata": {},
   "outputs": [
    {
     "data": {
      "text/plain": [
       "{'Título.': ['Trabalenguas difíciles',\n",
       "  'Juegos de palabras dificiles de pronunciar'],\n",
       " 'Prefacio.': ['Los trabalenguas difíciles son oraciones o frases dificultosas de pronunciar, usan palabras con sonidos similares. Se consideran un ejercicio que pertenece a la tradición oral. La finalidad de estos retos lingüísticos es educar y entretener a los niños, ya que, les ayuda a mejorar la dicción al mismo tiempo que disfrutan de la gracia de equivocarse. Además, en su mayoría son chistosos, por lo que resulta una actividad divertida.'],\n",
       " 'Página 1.': ['Tengo una gallina pinta, pipiripinta, pipirialegre y gorda, que tiene tres pollitos pintos, pipiripintos, pipirialegres y gordos. Si la gallina no hubiera sido pinta pipiripinta, pipirialegre y gorda; los pollitos no hubieran sido pintos, pipiripintos, pipirialegres y gordos.',\n",
       "  'Pablito clavó un clavito en la calva de un calvito. Un clavito clavó Pablito en la calva de un calvito. ¿Qué clavito clavó Pablito?',\n",
       "  'Cuando cuentes cuentos, cuenta cuántos cuentos cuentas, porque si no cuentas cuántos cuentos cuentas, nunca sabrás cuántos cuentos cuentas tú.',\n",
       "  'Pedro Pablo Pérez Pereira, pobre pintor portugués, pinta preciosos paisajes por poca plata, para poder pasar por París.',\n",
       "  '¿Cómo quieres que te quiera si el que quiero no me quiere como quiero que me quiera?'],\n",
       " 'Página 2.': ['Me han dicho un dicho, que dicen que he dicho yo. Ese dicho está mal dicho, pues si yo lo hubiera dicho, estaría mejor dicho, que ese dicho que dicen que algún día dije yo.',\n",
       "  'Si tu gusto no gusta del gusto que gusta mi gusto, qué disgusto se lleva mi gusto al saber que tu gusto no gusta del gusto que gusta mi gusto.',\n",
       "  'Pepe pide pipas y Pepe pide papas. Pudo Pepe pelar pipas, pero no pudo Pepe pelar papas. Porque las papas de Pepe no eran papas, eran pepinos. ¡Pepe metió la pata!',\n",
       "  'Erre con erre guitarra, erre con erre barril. Rápido ruedan las ruedas por los rieles del ferrocarril.',\n",
       "  'Hugo tuvo un tubo, pero el tubo que tuvo se le rompió. Para recuperar el tubo que tuvo, tuvo que comprar un tubo igual al tubo que tuvo.'],\n",
       " 'Página 3.': ['Le aviso al público de la República que el agua pública se va a cobrar, para que el público de la República tenga agua pública para tomar.',\n",
       "  '¿Por qué a la cama se le llama cama y a la cómoda cómoda, si es más cómoda la cama que la cómoda?',\n",
       "  'Amador está adormecido, ¿quién lo desadormecerá? El desadormecedor que lo desadormezca, buen desadormecedor será.',\n",
       "  'Tres tristes tigres tragaban trigo en tres tristes trastos sentados tras un trigal. Sentados tras un trigal, en tres tristes trastos tragaban trigo tres tristes tigres',\n",
       "  'Mariana Magaña desenmarañará mañana la maraña que enmaraña Mariana Magaña.'],\n",
       " 'Página 4.': ['Pancha plancha con cuatro planchas. ¿Con cuántas planchas plancha Pancha?',\n",
       "  'Enfrente de Fuensanta hay una fuente de frente. Fuensanta frunce la frente, frente a la fuente que está enfrente de frente.'],\n",
       " 'Conclusión.': ['Beneficios de los trabalenguas difíciles',\n",
       "  'Es recomendable que los niños empiecen a practicar trabalenguas desde muy pequeños, deben comenzar con ejercicios sencillos e ir aumentando el nivel de dificultad. Estos textos ejercitan el vocabulario del chico, así como, la precisión en el uso del lenguaje.',\n",
       "  'También, mejoran la pronunciación y la fluidez verbal. Lo que significa que, los trabalenguas difíciles contribuirán a que tu hijo o estudiante pierda el miedo de hablar y leer en público por temor a trabarse.',\n",
       "  'Por otro lado, los retos difíciles ejercitan la memoria, ya que, la práctica es lo que permite el progreso y la fluidez al leer el trabalenguas y por lo general, suelen aprendérselos rápidamente.',\n",
       "  'Para lograr comprender el trabalenguas es recomendable que identifiques las palabras que desconoces. Además, separa en partes el texto y determina el sentido de cada una, de esta forma, te resultará más fácil enseñar al niño.',\n",
       "  'Características de los trabalenguas',\n",
       "  'En los trabalenguas puedes encontrar rimas, palabras sin significado y repetición de sonidos. Además, presenta las siguientes características:',\n",
       "  'Sentido lúdico: los trabalenguas tienen función lúdica, por ello, se usan como un juego del lenguaje, especialmente, en la primaria.',\n",
       "  'Juego poético: se asocian con otros conceptos del lenguaje.',\n",
       "  'Cacofonía: se componen de palabras o frases muy parecidas o derivadas, lo que hace que la enunciación sea difícil.',\n",
       "  'Los mejores trabalenguas difíciles para niños',\n",
       "  'Estos retos son la herramienta ideal para trabajar la rapidez en el habla, ejercitar la lengua y los músculos faciales. Un dato importante que debes saber sobre esos trabalenguas es que pueden ayudar a bajar la tensión antes de entrar en escena, lo que significa que, son perfectos para utilizarlos como ejercicios de calentamiento.',\n",
       "  'Trabalenguas difíciles para niños de primaria',\n",
       "  'Utiliza esta recopilación de trabalenguas dificultosos pero cortos para niños de primaria.',\n",
       "  'Ocho broches Bocha abrocha, Sí, Bocha abrocha ocho broches.',\n",
       "  'El piso pisó Pablito, pisó Pablito pisando el piso, cuando el piso Pablito pisó, unas piezas de piso Pablito pisó.',\n",
       "  'Los llorones son lloricas, con sus lloreras y lloriqueos, si lloraran todos con los llorones, llorones y lloronas llenarían el océano.',\n",
       "  'Un parangaricutirimicuarano quería parangaricutirimicuarar, por ello, el que parangaricutirimicuare será un buen parangaricutirimicuarizador.',\n",
       "  'Paco Quinto cuentos cuenta. Cuenta cuatro, cuenta cinco, cuenta cientos ¿Quinto, cuentas cuántos cuentos? Quiero que me cuentes mucho más.',\n",
       "  'Trabalenguas difíciles largos',\n",
       "  'Luego de dominar los trabalenguas cortos para niños aumenta el nivel con los siguientes textos.',\n",
       "  'La cabra tecla, mecla, secla y fecla, tenía siente hijos teclos, meclos, seclos y feclos. Si la cabra tecla, mecla, secla y fecla no hubiera sido tecla, mecla, secla y fecla, sus cabritos no hubieran sido teclos meclos, seclos y feclos.',\n",
       "  'Treinta y tres trechos de troncos trocearon tres trozadores tristes de troncos y tresdoblaron su trabajo, tresdoblando su trabajo de trocear troncos y tronquitos.',\n",
       "  'Compadre de la capa parda, no compre más capa parda, porque el que mucha capa parda compra, paga mucha capa parda. Pues yo pagué mucha capa parda porque mucha capa parda compré.',\n",
       "  'El ácido desoxirribonucleico se quiere desacidodesoxirribonucleicoizar. Aquel que lo desacidodesoxirribonucleicoice un buen desacidodesoxirribonucleicoizador será.',\n",
       "  '¿Qué esperas? Aprovecha los trabalenguas cortos difíciles y disfruta de aprender y enseñar.']}"
      ]
     },
     "execution_count": 35,
     "metadata": {},
     "output_type": "execute_result"
    }
   ],
   "source": [
    "# Se crea un diccionario con los datos\n",
    "data_dict = {}\n",
    "for i in range(len(data_list)):\n",
    "    nombre_pagina = data_list[i].split('\\n')[0]\n",
    "    data_dict[nombre_pagina] = data_list[i].split('\\n')[1:]\n",
    "\n",
    "    # Se ignoran los strings vacios\n",
    "    data_dict[nombre_pagina] = [x for x in data_dict[nombre_pagina] if x != '']\n",
    "\n",
    "data_dict"
   ]
  },
  {
   "cell_type": "code",
   "execution_count": 36,
   "metadata": {},
   "outputs": [
    {
     "data": {
      "text/plain": [
       "['Los trabalenguas difíciles son oraciones o frases dificultosas de pronunciar, usan palabras con sonidos similares',\n",
       " 'Se consideran un ejercicio que pertenece a la tradición oral',\n",
       " 'La finalidad de estos retos lingüísticos es educar y entretener a los niños, ya que, les ayuda a mejorar la dicción al mismo tiempo que disfrutan de la gracia de equivocarse',\n",
       " 'Además, en su mayoría son chistosos, por lo que resulta una actividad divertida']"
      ]
     },
     "execution_count": 36,
     "metadata": {},
     "output_type": "execute_result"
    }
   ],
   "source": [
    "# En el caso de la sección de prefacion, se separan las oraciones\n",
    "data_dict['Prefacio.'] = [x.split('.') for x in data_dict['Prefacio.']]\n",
    "data_dict['Prefacio.'] = [x for sublist in data_dict['Prefacio.'] for x in sublist]\n",
    "data_dict['Prefacio.'] = [x.strip() for x in data_dict['Prefacio.'] if x != '']\n",
    "data_dict['Prefacio.']"
   ]
  },
  {
   "cell_type": "code",
   "execution_count": 37,
   "metadata": {},
   "outputs": [
    {
     "data": {
      "text/plain": [
       "['Beneficios de los trabalenguas difíciles',\n",
       " 'Es recomendable que los niños empiecen a practicar trabalenguas desde muy pequeños, deben comenzar con ejercicios sencillos e ir aumentando el nivel de dificultad',\n",
       " 'Estos textos ejercitan el vocabulario del chico, así como, la precisión en el uso del lenguaje',\n",
       " 'También, mejoran la pronunciación y la fluidez verbal',\n",
       " 'Lo que significa que, los trabalenguas difíciles contribuirán a que tu hijo o estudiante pierda el miedo de hablar y leer en público por temor a trabarse',\n",
       " 'Por otro lado, los retos difíciles ejercitan la memoria, ya que, la práctica es lo que permite el progreso y la fluidez al leer el trabalenguas y por lo general, suelen aprendérselos rápidamente',\n",
       " 'Para lograr comprender el trabalenguas es recomendable que identifiques las palabras que desconoces',\n",
       " 'Además, separa en partes el texto y determina el sentido de cada una, de esta forma, te resultará más fácil enseñar al niño',\n",
       " 'Características de los trabalenguas',\n",
       " 'En los trabalenguas puedes encontrar rimas, palabras sin significado y repetición de sonidos',\n",
       " 'Además, presenta las siguientes características:',\n",
       " 'Sentido lúdico: los trabalenguas tienen función lúdica, por ello, se usan como un juego del lenguaje, especialmente, en la primaria',\n",
       " 'Juego poético: se asocian con otros conceptos del lenguaje',\n",
       " 'Cacofonía: se componen de palabras o frases muy parecidas o derivadas, lo que hace que la enunciación sea difícil',\n",
       " 'Los mejores trabalenguas difíciles para niños',\n",
       " 'Estos retos son la herramienta ideal para trabajar la rapidez en el habla, ejercitar la lengua y los músculos faciales',\n",
       " 'Un dato importante que debes saber sobre esos trabalenguas es que pueden ayudar a bajar la tensión antes de entrar en escena, lo que significa que, son perfectos para utilizarlos como ejercicios de calentamiento',\n",
       " 'Trabalenguas difíciles para niños de primaria',\n",
       " 'Utiliza esta recopilación de trabalenguas dificultosos pero cortos para niños de primaria',\n",
       " 'Ocho broches Bocha abrocha, Sí, Bocha abrocha ocho broches',\n",
       " 'El piso pisó Pablito, pisó Pablito pisando el piso, cuando el piso Pablito pisó, unas piezas de piso Pablito pisó',\n",
       " 'Los llorones son lloricas, con sus lloreras y lloriqueos, si lloraran todos con los llorones, llorones y lloronas llenarían el océano',\n",
       " 'Un parangaricutirimicuarano quería parangaricutirimicuarar, por ello, el que parangaricutirimicuare será un buen parangaricutirimicuarizador',\n",
       " 'Paco Quinto cuentos cuenta',\n",
       " 'Cuenta cuatro, cuenta cinco, cuenta cientos ¿Quinto, cuentas cuántos cuentos? Quiero que me cuentes mucho más',\n",
       " 'Trabalenguas difíciles largos',\n",
       " 'Luego de dominar los trabalenguas cortos para niños aumenta el nivel con los siguientes textos',\n",
       " 'La cabra tecla, mecla, secla y fecla, tenía siente hijos teclos, meclos, seclos y feclos',\n",
       " 'Si la cabra tecla, mecla, secla y fecla no hubiera sido tecla, mecla, secla y fecla, sus cabritos no hubieran sido teclos meclos, seclos y feclos',\n",
       " 'Treinta y tres trechos de troncos trocearon tres trozadores tristes de troncos y tresdoblaron su trabajo, tresdoblando su trabajo de trocear troncos y tronquitos',\n",
       " 'Compadre de la capa parda, no compre más capa parda, porque el que mucha capa parda compra, paga mucha capa parda',\n",
       " 'Pues yo pagué mucha capa parda porque mucha capa parda compré',\n",
       " 'El ácido desoxirribonucleico se quiere desacidodesoxirribonucleicoizar',\n",
       " 'Aquel que lo desacidodesoxirribonucleicoice un buen desacidodesoxirribonucleicoizador será',\n",
       " '¿Qué esperas? Aprovecha los trabalenguas cortos difíciles y disfruta de aprender y enseñar']"
      ]
     },
     "execution_count": 37,
     "metadata": {},
     "output_type": "execute_result"
    }
   ],
   "source": [
    "# En el caso de la sección de conclusiones, se separan las oraciones\n",
    "data_dict['Conclusión.'] = [x.split('.') for x in data_dict['Conclusión.']]\n",
    "data_dict['Conclusión.'] = [x for y in data_dict['Conclusión.'] for x in y]\n",
    "data_dict['Conclusión.'] = [x.strip() for x in data_dict['Conclusión.'] if x != '']\n",
    "\n",
    "data_dict['Conclusión.']"
   ]
  },
  {
   "cell_type": "code",
   "execution_count": 38,
   "metadata": {},
   "outputs": [],
   "source": [
    "# Se guarda el diccionario en un archivo json\n",
    "with open('C:/Users/Gil Rodríguez Rivera/Documents/LiteraturIA/data/data_dict.json', 'w', encoding='utf-8') as f:\n",
    "    json.dump(data_dict, f, ensure_ascii=False, indent=4)\n"
   ]
  },
  {
   "cell_type": "code",
   "execution_count": null,
   "metadata": {},
   "outputs": [],
   "source": []
  }
 ],
 "metadata": {
  "kernelspec": {
   "display_name": "Python 3.10.2 64-bit (system)",
   "language": "python",
   "name": "python3"
  },
  "language_info": {
   "codemirror_mode": {
    "name": "ipython",
    "version": 3
   },
   "file_extension": ".py",
   "mimetype": "text/x-python",
   "name": "python",
   "nbconvert_exporter": "python",
   "pygments_lexer": "ipython3",
   "version": "3.10.2"
  },
  "orig_nbformat": 4,
  "vscode": {
   "interpreter": {
    "hash": "14e20595cdb405ae4d65c01beceb30431649f0658f198466e7f9613c007f085a"
   }
  }
 },
 "nbformat": 4,
 "nbformat_minor": 2
}
