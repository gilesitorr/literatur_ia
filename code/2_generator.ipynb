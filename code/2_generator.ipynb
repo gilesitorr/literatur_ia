{
 "cells": [
  {
   "cell_type": "markdown",
   "metadata": {},
   "source": [
    "Modelo obtenido de https://huggingface.co/DeepESP/gpt2-spanish"
   ]
  },
  {
   "cell_type": "code",
   "execution_count": 1,
   "metadata": {},
   "outputs": [],
   "source": [
    "import pandas as pd\n",
    "import numpy as np\n",
    "import json"
   ]
  },
  {
   "cell_type": "code",
   "execution_count": 2,
   "metadata": {},
   "outputs": [
    {
     "name": "stderr",
     "output_type": "stream",
     "text": [
      "All model checkpoint layers were used when initializing TFGPT2LMHeadModel.\n",
      "\n",
      "All the layers of TFGPT2LMHeadModel were initialized from the model checkpoint at DeepESP/gpt2-spanish.\n",
      "If your task is similar to the task the model of the checkpoint was trained on, you can already use TFGPT2LMHeadModel for predictions without further training.\n",
      "Setting `pad_token_id` to 50256 (first `eos_token_id`) to generate sequence\n"
     ]
    },
    {
     "data": {
      "text/plain": [
       "[{'generated_text': 'Tres tristes tigres tragaban trigo a las fieras para que las llamasan y de cada uno de ellos salieran serpientes y, más pronto, las mujeres humanas'},\n",
       " {'generated_text': 'Tres tristes tigres tragaban trigo negro; en lo alto de ellos se agrupaban las cuadrillas de caza, y las grandes bandadas del cuadril'},\n",
       " {'generated_text': 'Tres tristes tigres tragaban trigo blanco y se veían los fuegos artificiales que iluminaban las mesas, y se preparaban una copa en un brindis y una bebida,'},\n",
       " {'generated_text': 'Tres tristes tigres tragaban trigo con el hambre. \\n\\n—¿Cómo pueden tenerme? \\n\\n—Un hombre y una mujer a la vez.'},\n",
       " {'generated_text': 'Tres tristes tigres tragaban trigo, pero todos parecían querer comer lo que les daba sustento o la cebada que les había ofrecido para hacer su comida —ya'}]"
      ]
     },
     "execution_count": 2,
     "metadata": {},
     "output_type": "execute_result"
    }
   ],
   "source": [
    "from transformers import pipeline, set_seed\n",
    "\n",
    "generator = pipeline('text-generation', model='DeepESP/gpt2-spanish')\n",
    "set_seed(42)\n",
    "generator(\"Tres tristes tigres tragaban trigo\", max_length=30, num_return_sequences=5)"
   ]
  },
  {
   "cell_type": "code",
   "execution_count": 20,
   "metadata": {},
   "outputs": [
    {
     "data": {
      "text/plain": [
       "{'Título.': ['Trabalenguas difíciles',\n",
       "  'Juegos de palabras dificiles de pronunciar'],\n",
       " 'Prefacio.': ['Los trabalenguas difíciles son oraciones o frases dificultosas de pronunciar, usan palabras con sonidos similares',\n",
       "  'Se consideran un ejercicio que pertenece a la tradición oral',\n",
       "  'La finalidad de estos retos lingüísticos es educar y entretener a los niños, ya que, les ayuda a mejorar la dicción al mismo tiempo que disfrutan de la gracia de equivocarse',\n",
       "  'Además, en su mayoría son chistosos, por lo que resulta una actividad divertida'],\n",
       " 'Página 1.': ['Tengo una gallina pinta, pipiripinta, pipirialegre y gorda, que tiene tres pollitos pintos, pipiripintos, pipirialegres y gordos. Si la gallina no hubiera sido pinta pipiripinta, pipirialegre y gorda; los pollitos no hubieran sido pintos, pipiripintos, pipirialegres y gordos.',\n",
       "  'Pablito clavó un clavito en la calva de un calvito. Un clavito clavó Pablito en la calva de un calvito. ¿Qué clavito clavó Pablito?',\n",
       "  'Cuando cuentes cuentos, cuenta cuántos cuentos cuentas, porque si no cuentas cuántos cuentos cuentas, nunca sabrás cuántos cuentos cuentas tú.',\n",
       "  'Pedro Pablo Pérez Pereira, pobre pintor portugués, pinta preciosos paisajes por poca plata, para poder pasar por París.',\n",
       "  '¿Cómo quieres que te quiera si el que quiero no me quiere como quiero que me quiera?'],\n",
       " 'Página 2.': ['Me han dicho un dicho, que dicen que he dicho yo. Ese dicho está mal dicho, pues si yo lo hubiera dicho, estaría mejor dicho, que ese dicho que dicen que algún día dije yo.',\n",
       "  'Si tu gusto no gusta del gusto que gusta mi gusto, qué disgusto se lleva mi gusto al saber que tu gusto no gusta del gusto que gusta mi gusto.',\n",
       "  'Pepe pide pipas y Pepe pide papas. Pudo Pepe pelar pipas, pero no pudo Pepe pelar papas. Porque las papas de Pepe no eran papas, eran pepinos. ¡Pepe metió la pata!',\n",
       "  'Erre con erre guitarra, erre con erre barril. Rápido ruedan las ruedas por los rieles del ferrocarril.',\n",
       "  'Hugo tuvo un tubo, pero el tubo que tuvo se le rompió. Para recuperar el tubo que tuvo, tuvo que comprar un tubo igual al tubo que tuvo.'],\n",
       " 'Página 3.': ['Le aviso al público de la República que el agua pública se va a cobrar, para que el público de la República tenga agua pública para tomar.',\n",
       "  '¿Por qué a la cama se le llama cama y a la cómoda cómoda, si es más cómoda la cama que la cómoda?',\n",
       "  'Amador está adormecido, ¿quién lo desadormecerá? El desadormecedor que lo desadormezca, buen desadormecedor será.',\n",
       "  'Tres tristes tigres tragaban trigo en tres tristes trastos sentados tras un trigal. Sentados tras un trigal, en tres tristes trastos tragaban trigo tres tristes tigres',\n",
       "  'Mariana Magaña desenmarañará mañana la maraña que enmaraña Mariana Magaña.'],\n",
       " 'Página 4.': ['Pancha plancha con cuatro planchas. ¿Con cuántas planchas plancha Pancha?',\n",
       "  'Enfrente de Fuensanta hay una fuente de frente. Fuensanta frunce la frente, frente a la fuente que está enfrente de frente.'],\n",
       " 'Conclusión.': ['Beneficios de los trabalenguas difíciles',\n",
       "  'Es recomendable que los niños empiecen a practicar trabalenguas desde muy pequeños, deben comenzar con ejercicios sencillos e ir aumentando el nivel de dificultad',\n",
       "  'Estos textos ejercitan el vocabulario del chico, así como, la precisión en el uso del lenguaje',\n",
       "  'También, mejoran la pronunciación y la fluidez verbal',\n",
       "  'Lo que significa que, los trabalenguas difíciles contribuirán a que tu hijo o estudiante pierda el miedo de hablar y leer en público por temor a trabarse',\n",
       "  'Por otro lado, los retos difíciles ejercitan la memoria, ya que, la práctica es lo que permite el progreso y la fluidez al leer el trabalenguas y por lo general, suelen aprendérselos rápidamente',\n",
       "  'Para lograr comprender el trabalenguas es recomendable que identifiques las palabras que desconoces',\n",
       "  'Además, separa en partes el texto y determina el sentido de cada una, de esta forma, te resultará más fácil enseñar al niño',\n",
       "  'Características de los trabalenguas',\n",
       "  'En los trabalenguas puedes encontrar rimas, palabras sin significado y repetición de sonidos',\n",
       "  'Además, presenta las siguientes características:',\n",
       "  'Sentido lúdico: los trabalenguas tienen función lúdica, por ello, se usan como un juego del lenguaje, especialmente, en la primaria',\n",
       "  'Juego poético: se asocian con otros conceptos del lenguaje',\n",
       "  'Cacofonía: se componen de palabras o frases muy parecidas o derivadas, lo que hace que la enunciación sea difícil',\n",
       "  'Los mejores trabalenguas difíciles para niños',\n",
       "  'Estos retos son la herramienta ideal para trabajar la rapidez en el habla, ejercitar la lengua y los músculos faciales',\n",
       "  'Un dato importante que debes saber sobre esos trabalenguas es que pueden ayudar a bajar la tensión antes de entrar en escena, lo que significa que, son perfectos para utilizarlos como ejercicios de calentamiento',\n",
       "  'Trabalenguas difíciles para niños de primaria',\n",
       "  'Utiliza esta recopilación de trabalenguas dificultosos pero cortos para niños de primaria',\n",
       "  'Ocho broches Bocha abrocha, Sí, Bocha abrocha ocho broches',\n",
       "  'El piso pisó Pablito, pisó Pablito pisando el piso, cuando el piso Pablito pisó, unas piezas de piso Pablito pisó',\n",
       "  'Los llorones son lloricas, con sus lloreras y lloriqueos, si lloraran todos con los llorones, llorones y lloronas llenarían el océano',\n",
       "  'Un parangaricutirimicuarano quería parangaricutirimicuarar, por ello, el que parangaricutirimicuare será un buen parangaricutirimicuarizador',\n",
       "  'Paco Quinto cuentos cuenta',\n",
       "  'Cuenta cuatro, cuenta cinco, cuenta cientos ¿Quinto, cuentas cuántos cuentos? Quiero que me cuentes mucho más',\n",
       "  'Trabalenguas difíciles largos',\n",
       "  'Luego de dominar los trabalenguas cortos para niños aumenta el nivel con los siguientes textos',\n",
       "  'La cabra tecla, mecla, secla y fecla, tenía siente hijos teclos, meclos, seclos y feclos',\n",
       "  'Si la cabra tecla, mecla, secla y fecla no hubiera sido tecla, mecla, secla y fecla, sus cabritos no hubieran sido teclos meclos, seclos y feclos',\n",
       "  'Treinta y tres trechos de troncos trocearon tres trozadores tristes de troncos y tresdoblaron su trabajo, tresdoblando su trabajo de trocear troncos y tronquitos',\n",
       "  'Compadre de la capa parda, no compre más capa parda, porque el que mucha capa parda compra, paga mucha capa parda',\n",
       "  'Pues yo pagué mucha capa parda porque mucha capa parda compré',\n",
       "  'El ácido desoxirribonucleico se quiere desacidodesoxirribonucleicoizar',\n",
       "  'Aquel que lo desacidodesoxirribonucleicoice un buen desacidodesoxirribonucleicoizador será',\n",
       "  '¿Qué esperas? Aprovecha los trabalenguas cortos difíciles y disfruta de aprender y enseñar']}"
      ]
     },
     "execution_count": 20,
     "metadata": {},
     "output_type": "execute_result"
    }
   ],
   "source": [
    "# Se lee el archivo json\n",
    "with open('C:/Users/Gil Rodríguez Rivera/Documents/LiteraturIA/data/data_dict.json', encoding='utf-8') as f:\n",
    "    data = json.load(f)\n",
    "\n",
    "data"
   ]
  },
  {
   "cell_type": "code",
   "execution_count": 35,
   "metadata": {},
   "outputs": [
    {
     "data": {
      "text/plain": [
       "{'Título.': ['Trabalenguas difíciles',\n",
       "  'Juegos de palabras dificiles de pronunciar'],\n",
       " 'Prefacio.': ['Los trabalenguas difíciles son oraciones o frases dificultosas de pronunciar, usan palabras con sonidos similares',\n",
       "  'Se consideran un ejercicio que pertenece a la tradición oral',\n",
       "  'La finalidad de estos retos lingüísticos es educar y entretener a los niños, ya que, les ayuda a mejorar la dicción al mismo tiempo que disfrutan de la gracia de equivocarse',\n",
       "  'Además, en su mayoría son chistosos, por lo que resulta una actividad divertida'],\n",
       " 'Página 1.': ['Tengo una gallina pinta, pipiripinta, pipirialegre y gorda, que tiene tres pollitos pintos, pipiripintos, pipirialegres y gordos. Si la gallina no hubiera sido pinta pipiripinta, pipirialegre y gorda; los pollitos no hubieran sido pintos, pipiripintos, pipirialegres y gordos.',\n",
       "  'Pablito clavó un clavito en la calva de un calvito. Un clavito clavó Pablito en la calva de un calvito. ¿Qué clavito clavó Pablito?',\n",
       "  'Cuando cuentes cuentos, cuenta cuántos cuentos cuentas, porque si no cuentas cuántos cuentos cuentas, nunca sabrás cuántos cuentos cuentas tú.',\n",
       "  'Pedro Pablo Pérez Pereira, pobre pintor portugués, pinta preciosos paisajes por poca plata, para poder pasar por París.',\n",
       "  '¿Cómo quieres que te quiera si el que quiero no me quiere como quiero que me quiera?'],\n",
       " 'Página 2.': ['Me han dicho un dicho, que dicen que he dicho yo. Ese dicho está mal dicho, pues si yo lo hubiera dicho, estaría mejor dicho, que ese dicho que dicen que algún día dije yo.',\n",
       "  'Si tu gusto no gusta del gusto que gusta mi gusto, qué disgusto se lleva mi gusto al saber que tu gusto no gusta del gusto que gusta mi gusto.',\n",
       "  'Pepe pide pipas y Pepe pide papas. Pudo Pepe pelar pipas, pero no pudo Pepe pelar papas. Porque las papas de Pepe no eran papas, eran pepinos. ¡Pepe metió la pata!',\n",
       "  'Erre con erre guitarra, erre con erre barril. Rápido ruedan las ruedas por los rieles del ferrocarril.',\n",
       "  'Hugo tuvo un tubo, pero el tubo que tuvo se le rompió. Para recuperar el tubo que tuvo, tuvo que comprar un tubo igual al tubo que tuvo.'],\n",
       " 'Página 3.': ['Le aviso al público de la República que el agua pública se va a cobrar, para que el público de la República tenga agua pública para tomar.',\n",
       "  '¿Por qué a la cama se le llama cama y a la cómoda cómoda, si es más cómoda la cama que la cómoda?',\n",
       "  'Amador está adormecido, ¿quién lo desadormecerá? El desadormecedor que lo desadormezca, buen desadormecedor será.',\n",
       "  'Tres tristes tigres tragaban trigo en tres tristes trastos sentados tras un trigal. Sentados tras un trigal, en tres tristes trastos tragaban trigo tres tristes tigres',\n",
       "  'Mariana Magaña desenmarañará mañana la maraña que enmaraña Mariana Magaña.'],\n",
       " 'Página 4.': ['Pancha plancha con cuatro planchas. ¿Con cuántas planchas plancha Pancha?',\n",
       "  'Enfrente de Fuensanta hay una fuente de frente. Fuensanta frunce la frente, frente a la fuente que está enfrente de frente.'],\n",
       " 'Conclusión.': ['Beneficios de los trabalenguas difíciles',\n",
       "  'Es recomendable que los niños empiecen a practicar trabalenguas desde muy pequeños, deben comenzar con ejercicios sencillos e ir aumentando el nivel de dificultad',\n",
       "  'Estos textos ejercitan el vocabulario del chico, así como, la precisión en el uso del lenguaje',\n",
       "  'También, mejoran la pronunciación y la fluidez verbal',\n",
       "  'Lo que significa que, los trabalenguas difíciles contribuirán a que tu hijo o estudiante pierda el miedo de hablar y leer en público por temor a trabarse',\n",
       "  'Por otro lado, los retos difíciles ejercitan la memoria, ya que, la práctica es lo que permite el progreso y la fluidez al leer el trabalenguas y por lo general, suelen aprendérselos rápidamente',\n",
       "  'Para lograr comprender el trabalenguas es recomendable que identifiques las palabras que desconoces',\n",
       "  'Además, separa en partes el texto y determina el sentido de cada una, de esta forma, te resultará más fácil enseñar al niño',\n",
       "  'Características de los trabalenguas',\n",
       "  'En los trabalenguas puedes encontrar rimas, palabras sin significado y repetición de sonidos',\n",
       "  'Además, presenta las siguientes características:',\n",
       "  'Sentido lúdico: los trabalenguas tienen función lúdica, por ello, se usan como un juego del lenguaje, especialmente, en la primaria',\n",
       "  'Juego poético: se asocian con otros conceptos del lenguaje',\n",
       "  'Cacofonía: se componen de palabras o frases muy parecidas o derivadas, lo que hace que la enunciación sea difícil',\n",
       "  'Los mejores trabalenguas difíciles para niños',\n",
       "  'Estos retos son la herramienta ideal para trabajar la rapidez en el habla, ejercitar la lengua y los músculos faciales',\n",
       "  'Un dato importante que debes saber sobre esos trabalenguas es que pueden ayudar a bajar la tensión antes de entrar en escena, lo que significa que, son perfectos para utilizarlos como ejercicios de calentamiento',\n",
       "  'Trabalenguas difíciles para niños de primaria',\n",
       "  'Utiliza esta recopilación de trabalenguas dificultosos pero cortos para niños de primaria',\n",
       "  'Ocho broches Bocha abrocha, Sí, Bocha abrocha ocho broches',\n",
       "  'El piso pisó Pablito, pisó Pablito pisando el piso, cuando el piso Pablito pisó, unas piezas de piso Pablito pisó',\n",
       "  'Los llorones son lloricas, con sus lloreras y lloriqueos, si lloraran todos con los llorones, llorones y lloronas llenarían el océano',\n",
       "  'Un parangaricutirimicuarano quería parangaricutirimicuarar, por ello, el que parangaricutirimicuare será un buen parangaricutirimicuarizador',\n",
       "  'Paco Quinto cuentos cuenta',\n",
       "  'Cuenta cuatro, cuenta cinco, cuenta cientos ¿Quinto, cuentas cuántos cuentos? Quiero que me cuentes mucho más',\n",
       "  'Trabalenguas difíciles largos',\n",
       "  'Luego de dominar los trabalenguas cortos para niños aumenta el nivel con los siguientes textos',\n",
       "  'La cabra tecla, mecla, secla y fecla, tenía siente hijos teclos, meclos, seclos y feclos',\n",
       "  'Si la cabra tecla, mecla, secla y fecla no hubiera sido tecla, mecla, secla y fecla, sus cabritos no hubieran sido teclos meclos, seclos y feclos',\n",
       "  'Treinta y tres trechos de troncos trocearon tres trozadores tristes de troncos y tresdoblaron su trabajo, tresdoblando su trabajo de trocear troncos y tronquitos',\n",
       "  'Compadre de la capa parda, no compre más capa parda, porque el que mucha capa parda compra, paga mucha capa parda',\n",
       "  'Pues yo pagué mucha capa parda porque mucha capa parda compré',\n",
       "  'El ácido desoxirribonucleico se quiere desacidodesoxirribonucleicoizar',\n",
       "  'Aquel que lo desacidodesoxirribonucleicoice un buen desacidodesoxirribonucleicoizador será',\n",
       "  '¿Qué esperas? Aprovecha los trabalenguas cortos difíciles y disfruta de aprender y enseñar']}"
      ]
     },
     "execution_count": 35,
     "metadata": {},
     "output_type": "execute_result"
    }
   ],
   "source": [
    "# Se crea un nuevo diccionario\n",
    "data_dict = {}\n",
    "for key in data.keys():\n",
    "    data_dict[key] = data[key].copy()\n",
    "\n",
    "data_dict"
   ]
  },
  {
   "cell_type": "code",
   "execution_count": 36,
   "metadata": {},
   "outputs": [
    {
     "name": "stderr",
     "output_type": "stream",
     "text": [
      "Setting `pad_token_id` to 50256 (first `eos_token_id`) to generate sequence\n",
      "Setting `pad_token_id` to 50256 (first `eos_token_id`) to generate sequence\n",
      "Setting `pad_token_id` to 50256 (first `eos_token_id`) to generate sequence\n",
      "Setting `pad_token_id` to 50256 (first `eos_token_id`) to generate sequence\n",
      "Setting `pad_token_id` to 50256 (first `eos_token_id`) to generate sequence\n",
      "Setting `pad_token_id` to 50256 (first `eos_token_id`) to generate sequence\n",
      "Setting `pad_token_id` to 50256 (first `eos_token_id`) to generate sequence\n",
      "Setting `pad_token_id` to 50256 (first `eos_token_id`) to generate sequence\n",
      "Setting `pad_token_id` to 50256 (first `eos_token_id`) to generate sequence\n",
      "Setting `pad_token_id` to 50256 (first `eos_token_id`) to generate sequence\n",
      "Setting `pad_token_id` to 50256 (first `eos_token_id`) to generate sequence\n",
      "Setting `pad_token_id` to 50256 (first `eos_token_id`) to generate sequence\n",
      "Setting `pad_token_id` to 50256 (first `eos_token_id`) to generate sequence\n",
      "Setting `pad_token_id` to 50256 (first `eos_token_id`) to generate sequence\n",
      "Setting `pad_token_id` to 50256 (first `eos_token_id`) to generate sequence\n",
      "Setting `pad_token_id` to 50256 (first `eos_token_id`) to generate sequence\n",
      "Setting `pad_token_id` to 50256 (first `eos_token_id`) to generate sequence\n",
      "Setting `pad_token_id` to 50256 (first `eos_token_id`) to generate sequence\n",
      "Setting `pad_token_id` to 50256 (first `eos_token_id`) to generate sequence\n",
      "Setting `pad_token_id` to 50256 (first `eos_token_id`) to generate sequence\n",
      "Setting `pad_token_id` to 50256 (first `eos_token_id`) to generate sequence\n",
      "Setting `pad_token_id` to 50256 (first `eos_token_id`) to generate sequence\n",
      "Setting `pad_token_id` to 50256 (first `eos_token_id`) to generate sequence\n",
      "Setting `pad_token_id` to 50256 (first `eos_token_id`) to generate sequence\n",
      "Setting `pad_token_id` to 50256 (first `eos_token_id`) to generate sequence\n",
      "Setting `pad_token_id` to 50256 (first `eos_token_id`) to generate sequence\n",
      "Setting `pad_token_id` to 50256 (first `eos_token_id`) to generate sequence\n",
      "Setting `pad_token_id` to 50256 (first `eos_token_id`) to generate sequence\n",
      "Setting `pad_token_id` to 50256 (first `eos_token_id`) to generate sequence\n",
      "Setting `pad_token_id` to 50256 (first `eos_token_id`) to generate sequence\n",
      "Setting `pad_token_id` to 50256 (first `eos_token_id`) to generate sequence\n",
      "Setting `pad_token_id` to 50256 (first `eos_token_id`) to generate sequence\n",
      "Setting `pad_token_id` to 50256 (first `eos_token_id`) to generate sequence\n",
      "Setting `pad_token_id` to 50256 (first `eos_token_id`) to generate sequence\n",
      "Setting `pad_token_id` to 50256 (first `eos_token_id`) to generate sequence\n",
      "Setting `pad_token_id` to 50256 (first `eos_token_id`) to generate sequence\n",
      "Setting `pad_token_id` to 50256 (first `eos_token_id`) to generate sequence\n",
      "Setting `pad_token_id` to 50256 (first `eos_token_id`) to generate sequence\n",
      "Setting `pad_token_id` to 50256 (first `eos_token_id`) to generate sequence\n",
      "Setting `pad_token_id` to 50256 (first `eos_token_id`) to generate sequence\n",
      "Setting `pad_token_id` to 50256 (first `eos_token_id`) to generate sequence\n",
      "Setting `pad_token_id` to 50256 (first `eos_token_id`) to generate sequence\n",
      "Setting `pad_token_id` to 50256 (first `eos_token_id`) to generate sequence\n",
      "Setting `pad_token_id` to 50256 (first `eos_token_id`) to generate sequence\n",
      "Setting `pad_token_id` to 50256 (first `eos_token_id`) to generate sequence\n",
      "Setting `pad_token_id` to 50256 (first `eos_token_id`) to generate sequence\n",
      "Setting `pad_token_id` to 50256 (first `eos_token_id`) to generate sequence\n",
      "Setting `pad_token_id` to 50256 (first `eos_token_id`) to generate sequence\n",
      "Setting `pad_token_id` to 50256 (first `eos_token_id`) to generate sequence\n",
      "Setting `pad_token_id` to 50256 (first `eos_token_id`) to generate sequence\n",
      "Setting `pad_token_id` to 50256 (first `eos_token_id`) to generate sequence\n",
      "Setting `pad_token_id` to 50256 (first `eos_token_id`) to generate sequence\n",
      "Setting `pad_token_id` to 50256 (first `eos_token_id`) to generate sequence\n",
      "Setting `pad_token_id` to 50256 (first `eos_token_id`) to generate sequence\n",
      "Setting `pad_token_id` to 50256 (first `eos_token_id`) to generate sequence\n",
      "Setting `pad_token_id` to 50256 (first `eos_token_id`) to generate sequence\n",
      "Setting `pad_token_id` to 50256 (first `eos_token_id`) to generate sequence\n",
      "Setting `pad_token_id` to 50256 (first `eos_token_id`) to generate sequence\n"
     ]
    }
   ],
   "source": [
    "# Se itera sobre todas las llaves de data_dict y se genera más texto\n",
    "for key in data_dict.keys():\n",
    "    set_seed(42)\n",
    "\n",
    "    # Se determinan los parámetros de la generación de texto\n",
    "    if key not in ['Prefacio.', 'Conclusión.']:\n",
    "        word_size, max_length = 5, 30\n",
    "    elif key not in ['Título.']:\n",
    "        word_size, max_length = 10, 60\n",
    "\n",
    "    # Se itera sobre cada elemento de la lista\n",
    "    for i in range(len(data_dict[key])):\n",
    "        lista = data_dict[key][i].split(' ')[:word_size]\n",
    "        lista = ' '.join(lista)\n",
    "\n",
    "        # Se genera el texto\n",
    "        text = generator(lista, max_length=max_length, num_return_sequences=1)[0]['generated_text']\n",
    "        # Se agrega el texto a la lista\n",
    "        data_dict[key][i] = text"
   ]
  },
  {
   "cell_type": "code",
   "execution_count": 37,
   "metadata": {},
   "outputs": [
    {
     "data": {
      "text/plain": [
       "{'Título.': ['Trabalenguas difíciles. El viento soplaba con fuerza en la playa, como si el calor quisiera sacudirlo, pero no por eso se atrevió a',\n",
       "  'Juegos de palabras dificiles de un espacio que, por tanto, es más probable que no esté lleno de citas sustanciales o adjetivos en el'],\n",
       " 'Prefacio.': ['Los trabalenguas difíciles son oraciones o frases dificultosas de pronunciar, y por ejemplo son para dar una nueva versión, para no decir nada malo o malo, para no decir nada mal sin poner en acción un gran pensamiento que haga que no sea realmente lo mejor que puede sucederles al escritor',\n",
       "  'Se consideran un ejercicio que pertenece a la tradición oral oral, como la lengua oral que narra los hechos concretos, y que, cuando por casualidad se halla contenida durante el transcurso del tiempo en cada una de sus narraciones, se halla ausente en otro tiempo. Este ejercicio debe llevar a un nuevo conocimiento de la',\n",
       "  'La finalidad de estos retos lingüísticos es educar y entretener a los chicos, mientras que los de los grupos de vecinos tratan de educar a sus hijos. En muchos hogares, los niños necesitan que su vida familiar sea \"un mero \"síndrome\". Los padres, que no necesitan que sus hijos hagan',\n",
       "  'Además, en su mayoría son chistosos, por lo que resulta fácil interpretar a los extraños. Yo creo que en las mujeres no sólo por su aspecto, sino también por su apariencia. Como dice el poeta, \"nunca lo he visto\", al principio creía que los hombres y mujeres querían que se relacion'],\n",
       " 'Página 1.': ['Tengo una gallina pinta, pipiripinta, y no quiere venir a jugar con un elefante, ¿qué es lo que quiere que la deje',\n",
       "  'Pablito clavó un clavito en el suelo en el preciso instante en que el otro hombre le arrebató la pistola en dirección a Pablito y',\n",
       "  'Cuando cuentes cuentos, cuenta cuántos cuentos quieres contar ahora, si es que así te conviene. \\n\\nLloré, porque ya empezaba a aburrirse',\n",
       "  'Pedro Pablo Pérez Pereira, pobrecillos, viejos amigos; ya ves, ¡qué guapo es!, ¿qué aspecto tiene? Una muñeca bonita, que',\n",
       "  '¿Cómo quieres que te quiera? \\n\\n—A mí me gustaría. Por eso he de seguirme, porque deseo. Porque quiero ser un hombre'],\n",
       " 'Página 2.': ['Me han dicho un dicho, y lo saben porque lo saben; y también en las películas, cuando salen juntos a la calle. \\n\\n—Creo',\n",
       "  'Si tu gusto no gusta del todo a los otros. El tuyo y el mío también. Y si lo prefieres así te pido disculpas, pero es que',\n",
       "  'Pepe pide pipas y Pepe nos pide algo con el tenedor, un buen poco más allá entre el cuchillo y yo. Hay mucho más vino por',\n",
       "  'Erre con erre guitarra, erre testatitan\\n\\nque no me gustan los palillos o las ostras,\\n\\nen',\n",
       "  'Hugo tuvo un tubo, pero, ¡qué raro!, no era de extrañar. \\n\\nComo la luna era mucho más alta en esta vertiente,'],\n",
       " 'Página 3.': ['Le aviso al público de que no existe relación entre \"la casa y la obra\" en esta frase y \"auténtica y no apropiada\".',\n",
       "  '¿Por qué a la cama? ¿Se lo has contado ya? \\n\\n—¿En serio? —replicó Anna—. Lo dudo, pero se lo',\n",
       "  'Amador está adormecido, ¿quién lo cuidará más que por voluntad? \\n\\nFélix volvió una vez más hacia Félix, quien sintió que',\n",
       "  'Tres tristes tigres tragaban trigo duro para el ganado en busca de un terreno donde ocultar sus cabezas. Pero después del invierno, el primer contacto de la',\n",
       "  'Mariana Magaña desenmarañará mañana la misión que nos ha encomendado a la comunidad de la Alianza Rebelde —dijo al fin. \\n'],\n",
       " 'Página 4.': ['Pancha plancha con cuatro planchas. \\n\\nLos marineros se amontonaban en sus carritos. \\n\\nYa estaban allí, cuando al fin dijo:',\n",
       "  'Enfrente de Fuensanta hay una hilera de puertas y se ve un patio rodeado de edificios de ladrillo. Y entre las torres altas hay otro portón'],\n",
       " 'Conclusión.': ['Beneficios de los trabalenguas difíciles. A menudo estos trabalenguas estaban de moda. \\n\\nHabía pasado mucho más tiempo que en los trabalenguas; y, como era temprano, lo único que le importaba era el ruido del tránsito y sus aceros. El viaje',\n",
       "  'Es recomendable que los niños empiecen a practicar trabalenguas desde los trece años, según la información que se haga sobre tus padres. Además hay que enseñar los dientes para obtener la máxima puntuación posible. \\n\\n—¿Por qué? \\n\\n—Porque no es una buena idea. \\n\\n—¿',\n",
       "  'Estos textos ejercitan el vocabulario del chico, así como, la tradición de las letras que, por así decir, constituyen la herencia que todos los jóvenes están deseando inculcar en la poesía. \\n\\nUn niño que se ríe, que se ríe al oírle, que se ríe y le sigue corriendo',\n",
       "  'También, mejoran la pronunciación y la fluidez verbal. Lo que más recuerdo de usted —que en mi vida fue más bien un hombre del siglo XIX— es que lo recuerdo tanto que hasta el punto del dolor que siento como un deseo incontrolable de ser más exacto —de que lo haya amado—',\n",
       "  'Lo que significa que, los trabalenguas difíciles contribuirán a que sea una cosa más que otra cosa\", escribió en una de sus cartas, The Shatting of Modern World, 22 de octubre de 1961, en la que se dice que, en lugar de tratar con la sociedad a la',\n",
       "  'Por otro lado, los retos difíciles ejercitan la memoria, ya sea en la cama o en la cama, y los miedos a la idea de que al final ha resultado más difícil, ya que al fin y al cabo todo se reduce a dos. Por una parte no está el pasado en la cama',\n",
       "  'Para lograr comprender el trabalenguas es recomendable que identifiques las tres versiones de tus personajes; a lo mejor te referías a uno. No es difícil encontrar un personaje con el que te enamoraste. Una de las tres versiones se puede encontrar en los tres relatos. La primera fue la',\n",
       "  'Además, separa en partes el texto y determina el sentido. Si el texto da el nombre de las diversas secuencias que componen el texto, se deduce la función del texto, pero se trata de un efecto en la manera en que es tratado en sí mismo, con la posible excepción de algún fragmento que se',\n",
       "  'Características de los trabalenguas y las raíces de las palmas, los manzanes, los cipreses, los espinosos y los árboles, en lo hondo de los ríos de la llanura. \\n\\nEl camino a través de las montañas,\\n\\nel lugar de los muertos y',\n",
       "  'En los trabalenguas puedes encontrar rimas, palabras sin significado y sin sentido. \\n\\nRik y Lars, aunque sin un acento tan alto como Rik en el que expresarse a voz en grito y por gestos que se perciben más que las miradas, han pasado de la lengua hablada',\n",
       "  'Además, presenta las siguientes características: la velocidad del viento, la velocidad del viento, la energía del aire o el aumento de la velocidad, o la velocidad. \\n\\nEn general, la velocidad de la luz es nula, y la velocidad es nula. No obstante, todos los objetos físicos tienen tres',\n",
       "  'Sentido lúdico: los trabalenguas tienen función lúdica, por ello, se deben adoptar, si bien se deben adoptar las tareas más exigentes, algunas de ellas como la elaboración de una pequeña medida mediante la cual se puede practicar algo, y no los más exigentes o exigentes',\n",
       "  'Juego poético: se asocian con otros conceptos del lenguaje en las situaciones de producción literaria o de la literatura, y su tratamiento y descripción como la descripción de una persona es una obra de naturaleza literaria (y no de estilo) de carácter individual y la descripción de un país. Este lenguaje está descrito',\n",
       "  'Cacofonía: se componen de palabras o frases muy parecidas o más o menos elaboradas, que no son palabras que no se corresponden con las anteriores. Como si fuera una expresión muy particular y desconocida para el paladar. Es obvio que esta voz es muy popular en el mundo entero, se remonta a los',\n",
       "  'Los mejores trabalenguas difíciles para niños. Hay más madres, pero es necesario ir más lejos. No hay tiempo. \\n\\n- ¿Cómo es ese hombre? -preguntó una de las mujeres. \\n\\n- Es hombre, pero es distinto. Él no se interesa con la mujer y se',\n",
       "  'Estos retos son la herramienta ideal para trabajar la rapidez y la precisión, como una herramienta no ya de gran alcance y muy útil a los ordenadores. En el ámbito político, es posible alcanzar un nivel de efectividad en el sistema, puesto que la capacidad productiva de los ciudadanos es limitada. En este contexto,',\n",
       "  'Un dato importante que debes saber sobre esos trabalenguas es que una vez que han muerto, se hallan a escasos días de la muerte en la isla o en un promontorio. Por eso es importante que cada uno de vosotros tenga un trozo de tierra donde guardar y a un día de volver a estar',\n",
       "  'Trabalenguas difíciles para niños de primaria, y el libro se titulaba \"Ideas\" desde el año 2001, \"Factores\" o \"Tradiol\" desde el año 2002 hasta enero de 2010, \"Information\", \"Efemas\" desde el año 2006.',\n",
       "  'Utiliza esta recopilación de trabalenguas dificultosos pero cortos para niños. \\n\\nLos pequeños son llamados \"saquetas\": pueden vivir de forma más regular, como las hormigas (véase el ejemplo de Iaco Sancha), y de ahí que, si se les pasa, pier',\n",
       "  'Ocho broches Bocha abrocha, Sí, Bocha abrocha ocho broches Bocha y Bocha abrocha seis broches Bocha en las manos de Bocha. \\n\\nY en ese instante, cuando la gente se pone en pie, el reloj está en lo alto de la escalera',\n",
       "  'El piso pisó Pablito, pisó Pablito pisando el piso, cuando el teléfono sonó a su teléfono, pero el hombre se limitó a descolgar algo en la oreja con su voz, no le escuchó y no volvió a contestar. \\n\\nCuando al menos dos días después del asesinato,',\n",
       "  'Los llorones son lloricas, con sus lloreras y lloriqueos, si las lágrimas son dolor, con su boca, su lengua emitían un fuerte ruido, con sus lágrimas, con sus suspiros y palabras, pero por fortuna el sueño era demasiado lejano, demasiado real, demasiado grande. El miedo',\n",
       "  'Un parangaricutirimicuarano quería parangaricutirimicuarar, por ello, el que parangaricutirimicuare será conocido como el célebre contador de la sabiduría europea, y el inventor del nombre de este mítico explorador (1805). \\n\\nEn su',\n",
       "  'Paco Quinto cuentos cuenta la leyenda de Roma, pero no es preciso revelarle a él mismo el camino. Su nombre es Laia Capote, una larga historia llena de acontecimientos extraños y, desde ahora, se refiere a la Roma clásica, a este relato. Para la historia de Roma, la',\n",
       "  'Cuenta cuatro, cuenta cinco, cuenta cientos ¿Quinto, cuentas cuántos cuentos?, es algo que se olvida. Ochenta… se olvida, se olvida al final. \\n\\nEl señor de la casa, dice su mujer, mira por la ventana de la biblioteca. A lo lejos,',\n",
       "  'Trabalenguas difíciles largos, para los que no hay nada mejor que hacer que no sentir dolor, pero es lo que más me sorprende en este clima de vida. Cuando estás cansado, cuando todo parece ir bien, cuando la persona va bien a un lugar que se ve lleno de gente, cuando',\n",
       "  'Luego de dominar los trabalenguas cortos para niños aumenta el dolor de muelas con ellos, la ansiedad de los niños se agrava con cada vez más. Así como cuando juegan son capaces de sacar a los juguetes y jugar como es debido en una familia del campo de fútbol. \\n\\n—',\n",
       "  'La cabra tecla, mecla, secla y fecla, tenía siente hijos y es la que dirige. Al principio lo hizo solo con ellos, pero al final lo consiguieron. Por esta última le tocó dar con la vida. Su marido le regaló un enorme cordero de una marca en un plato que',\n",
       "  'Si la cabra tecla, mecla, secla y fecla no hubiera dado un solo paso hacia el origen de su nombre y que también él hubiese reconocido su lugar desde su nacimiento y lugar de nacimiento. \\n\\n—Pero eso no es más que un medio para que tú estés allí. Tienes que',\n",
       "  'Treinta y tres trechos de troncos trocearon tres trozadores tristes, se perdieron entre el rebaño y, sin apenas esfuerzo, cayeron por los huecos de una brecha abierta a picotazos. \\n\\nY las piernas que antes le habían servido, eran un mallas de corteza de pino',\n",
       "  'Compadre de la capa parda, no compre más capa parda, que el día de Nochebuena sea el de toda la vida. —Conclusión para tu madre y para el niño, el primero en hablar. —Follar y la niña. \\n\\nTu madre, tu',\n",
       "  'Pues yo pagué mucha capa parda porque mucha capa parda, y porque se había puesto de moda este tipo de prendas. \\n\\n—Pero no te dije que te regalaras un vestido. \\n\\n—¡Te estás comportando de puta madre! ¡Sabes que me haces daño! \\n\\n',\n",
       "  'El ácido desoxirribonucleico se quiere desacidodesoxirribonucleicoizar. A continuación lo hacen los tejidos de la piel. De pronto se produce una combustión interna de las células de las proteínas encefizadas de forma beta-beta. A continuación se',\n",
       "  'Aquel que lo desacidodesoxirribonucleicoice un buen desacidodesoxirribonucleicoizador será la respuesta, por pequeña que sea, a la siguiente. \\n\\nTras esta introducción se inician los trabajos que emprenden en las páginas finales de una novela,',\n",
       "  '¿Qué esperas? Aprovecha los trabalenguas cortos difíciles y disfruta de la visión del paisaje que te gusta describir. \\n\\n—La montaña es de un gris pálido, sin rastro de nieve, que parece más bien un bosquecillo del color de los árboles. En invierno el invierno es húmedo y']}"
      ]
     },
     "execution_count": 37,
     "metadata": {},
     "output_type": "execute_result"
    }
   ],
   "source": [
    "data_dict"
   ]
  },
  {
   "cell_type": "code",
   "execution_count": 38,
   "metadata": {},
   "outputs": [],
   "source": [
    "# Se guarda el diccionario en un archivo json\n",
    "with open('C:/Users/Gil Rodríguez Rivera/Documents/LiteraturIA/data/data_dict_generated.json', 'w', encoding='utf-8') as f:\n",
    "    json.dump(data_dict, f, ensure_ascii=False, indent=4)"
   ]
  },
  {
   "cell_type": "code",
   "execution_count": null,
   "metadata": {},
   "outputs": [],
   "source": []
  }
 ],
 "metadata": {
  "kernelspec": {
   "display_name": "Python 3.10.2 64-bit (system)",
   "language": "python",
   "name": "python3"
  },
  "language_info": {
   "codemirror_mode": {
    "name": "ipython",
    "version": 3
   },
   "file_extension": ".py",
   "mimetype": "text/x-python",
   "name": "python",
   "nbconvert_exporter": "python",
   "pygments_lexer": "ipython3",
   "version": "3.10.2"
  },
  "orig_nbformat": 4,
  "vscode": {
   "interpreter": {
    "hash": "14e20595cdb405ae4d65c01beceb30431649f0658f198466e7f9613c007f085a"
   }
  }
 },
 "nbformat": 4,
 "nbformat_minor": 2
}
